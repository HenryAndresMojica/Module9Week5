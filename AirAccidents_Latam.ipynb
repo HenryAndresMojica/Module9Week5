{
 "cells": [
  {
   "cell_type": "markdown",
   "metadata": {},
   "source": [
    "# AIRPLANE ACCIDENTS IN LATAM \n",
    "By HAMM"
   ]
  },
  {
   "cell_type": "markdown",
   "metadata": {},
   "source": [
    "**Introduction**"
   ]
  },
  {
   "cell_type": "markdown",
   "metadata": {},
   "source": [
    "Latin America is a group of countries in which tourism represents one of the most important activities of GDP: foreigners who visit its coasts and also our inland cities and in many cases not even the famous and dreaded economic recession has been able to Stop this phenomenon. In fact, the facilities that they both find to come to this region and those that Latin Americans find to leave their respective countries are growing, especially if they opt for air transport.\n",
    "\n",
    "Nowadays, any young person has traveled by plane, or if they have not done so, they have certainly had the opportunity, something that for other people of past generations was totally unthinkable: air transport was seen decades ago as something reserved for business people or elite families.\n",
    "\n",
    "On the other hand, many people are afraid of flying and the news of air accidents, although not very common, increases this fear because most of these accidents are fatal. I decided to do this study on the accidents of the last era in Latin America because in the news we often hear accidents in developed countries such as the United States or China, which has never affected its economy, but when it comes to a third world country it is Another story Not only does tourism affect itself, but it also affects the image of the region causing fear in foreigners.\n",
    "\n",
    "With this work I intend to find both geographical and political relationships that allow us to understand the background of accidents in Latin American countries."
   ]
  },
  {
   "cell_type": "markdown",
   "metadata": {},
   "source": [
    "**Data**"
   ]
  },
  {
   "cell_type": "markdown",
   "metadata": {},
   "source": [
    "*Libraries*"
   ]
  },
  {
   "cell_type": "code",
   "execution_count": 1,
   "metadata": {},
   "outputs": [
    {
     "name": "stdout",
     "output_type": "stream",
     "text": [
      "OK Libraries\n"
     ]
    }
   ],
   "source": [
    "import numpy as np \n",
    "import pandas as pd \n",
    "import json \n",
    "import requests \n",
    "import codecs\n",
    "import matplotlib.pyplot as plt\n",
    "import matplotlib.cm as cm\n",
    "import matplotlib.colors as colors\n",
    "import folium\n",
    "import datetime\n",
    "\n",
    "from geopy.geocoders import Nominatim \n",
    "from pandas.io.json import json_normalize\n",
    "from bs4 import BeautifulSoup\n",
    "from sklearn.cluster import KMeans\n",
    "from sklearn.decomposition import PCA\n",
    "\n",
    "pd.set_option('display.max_columns', None)\n",
    "pd.set_option('display.max_rows', None)\n",
    "\n",
    "print('OK Libraries')"
   ]
  },
  {
   "cell_type": "markdown",
   "metadata": {},
   "source": [
    "The database that I am going to handle was taken from Wikipedia with the global air accidents of recent years. "
   ]
  },
  {
   "cell_type": "code",
   "execution_count": 2,
   "metadata": {},
   "outputs": [],
   "source": [
    "website_url = requests.get('https://en.wikipedia.org/wiki/List_of_aircraft_accidents_and_incidents_resulting_in_at_least_50_fatalities').text"
   ]
  },
  {
   "cell_type": "code",
   "execution_count": 3,
   "metadata": {},
   "outputs": [],
   "source": [
    "soup = BeautifulSoup(website_url,'lxml')\n",
    "tables = soup.find_all(\"table\", { \"class\" : \"wikitable\" })"
   ]
  },
  {
   "cell_type": "code",
   "execution_count": 4,
   "metadata": {},
   "outputs": [],
   "source": [
    "def parse(n):\n",
    "    data = []\n",
    "    for row in tables[n].find_all(\"tr\"):\n",
    "        if row and row.find_all('td'):\n",
    "            data_row = []\n",
    "            cells = row.find_all('td')\n",
    "            for cell in cells:\n",
    "                if cell:\n",
    "                    data_row.append(cell.get_text().rstrip())            \n",
    "            data.append(data_row)\n",
    "    return data"
   ]
  },
  {
   "cell_type": "code",
   "execution_count": 5,
   "metadata": {},
   "outputs": [],
   "source": [
    "data = pd.DataFrame(parse(2), columns = ['Type','Incident','Aircraft','Location','Phase','Airport','Distance','Date']) "
   ]
  },
  {
   "cell_type": "code",
   "execution_count": 6,
   "metadata": {},
   "outputs": [],
   "source": [
    "x = data.Location\n",
    "for i in range (len(data)) :\n",
    "    y= data.Location[i]\n",
    "    z=len(y)\n",
    "    AA=0\n",
    "    while y[AA].islower():\n",
    "        x[i] = y[AA+1:z]\n",
    "        AA=AA+1\n",
    "        data.Location=x"
   ]
  },
  {
   "cell_type": "markdown",
   "metadata": {},
   "source": [
    "This will only filter those found in Latin American countries without taking into account their city of origin, model of airplane or city of origin. "
   ]
  },
  {
   "cell_type": "code",
   "execution_count": 7,
   "metadata": {},
   "outputs": [],
   "source": [
    "loc=data['Location']"
   ]
  },
  {
   "cell_type": "code",
   "execution_count": 8,
   "metadata": {},
   "outputs": [],
   "source": [
    "latam=['Chile','Uruguay','Puerto Rico','Colombia','Mexico','Cuba','Argentina','Ecuador','Brazil','Venezuela','Honduras','Nicaragua','Guatemala','Peru','Bolivia']"
   ]
  },
  {
   "cell_type": "code",
   "execution_count": 9,
   "metadata": {},
   "outputs": [],
   "source": [
    "mask = np.logical_or.reduce([loc.str.contains(i, regex=False, case=False) for i in latam])"
   ]
  },
  {
   "cell_type": "code",
   "execution_count": 10,
   "metadata": {},
   "outputs": [],
   "source": [
    "Air_Latam=data[mask]"
   ]
  },
  {
   "cell_type": "code",
   "execution_count": 11,
   "metadata": {},
   "outputs": [],
   "source": [
    "Air_Latam=Air_Latam.drop([95],axis=0)"
   ]
  },
  {
   "cell_type": "code",
   "execution_count": 12,
   "metadata": {},
   "outputs": [
    {
     "data": {
      "text/html": [
       "<div>\n",
       "<style scoped>\n",
       "    .dataframe tbody tr th:only-of-type {\n",
       "        vertical-align: middle;\n",
       "    }\n",
       "\n",
       "    .dataframe tbody tr th {\n",
       "        vertical-align: top;\n",
       "    }\n",
       "\n",
       "    .dataframe thead th {\n",
       "        text-align: right;\n",
       "    }\n",
       "</style>\n",
       "<table border=\"1\" class=\"dataframe\">\n",
       "  <thead>\n",
       "    <tr style=\"text-align: right;\">\n",
       "      <th></th>\n",
       "      <th>Type</th>\n",
       "      <th>Incident</th>\n",
       "      <th>Aircraft</th>\n",
       "      <th>Location</th>\n",
       "      <th>Phase</th>\n",
       "      <th>Airport</th>\n",
       "      <th>Distance</th>\n",
       "      <th>Date</th>\n",
       "    </tr>\n",
       "  </thead>\n",
       "  <tbody>\n",
       "    <tr>\n",
       "      <th>34</th>\n",
       "      <td>COM</td>\n",
       "      <td>TAM Airlines Flight 3054</td>\n",
       "      <td>Airbus A320-233</td>\n",
       "      <td>São Paulo, Brazil</td>\n",
       "      <td>LDG[64]</td>\n",
       "      <td>CGH</td>\n",
       "      <td></td>\n",
       "      <td>2007-07-17</td>\n",
       "    </tr>\n",
       "    <tr>\n",
       "      <th>55</th>\n",
       "      <td>COM</td>\n",
       "      <td>Mexicana Flight 940</td>\n",
       "      <td>Boeing 727-264</td>\n",
       "      <td>Sierra Madre Oriental Mts., Mexico</td>\n",
       "      <td>ENR[89]</td>\n",
       "      <td></td>\n",
       "      <td></td>\n",
       "      <td>1986-03-31</td>\n",
       "    </tr>\n",
       "    <tr>\n",
       "      <th>59</th>\n",
       "      <td>COM</td>\n",
       "      <td>West Caribbean Airways Flight 708</td>\n",
       "      <td>McDonnell Douglas MD-82</td>\n",
       "      <td>Machiques, Venezuela</td>\n",
       "      <td>ENR[93]</td>\n",
       "      <td></td>\n",
       "      <td></td>\n",
       "      <td>2005-08-16</td>\n",
       "    </tr>\n",
       "    <tr>\n",
       "      <th>62</th>\n",
       "      <td>COM</td>\n",
       "      <td>American Airlines Flight 965</td>\n",
       "      <td>Boeing 757-223</td>\n",
       "      <td>Buga, Colombia</td>\n",
       "      <td>APR[96]</td>\n",
       "      <td>CLO</td>\n",
       "      <td>c. 48 km(30 mi)</td>\n",
       "      <td>1995-12-20</td>\n",
       "    </tr>\n",
       "    <tr>\n",
       "      <th>72</th>\n",
       "      <td>COM</td>\n",
       "      <td>Viasa Flight 742</td>\n",
       "      <td>McDonnell Douglas DC-9-32</td>\n",
       "      <td>Maracaibo, Venezuela</td>\n",
       "      <td>ICL[107]</td>\n",
       "      <td>MAR</td>\n",
       "      <td>0.85 km(0.5 mi)</td>\n",
       "      <td>1969-03-16</td>\n",
       "    </tr>\n",
       "  </tbody>\n",
       "</table>\n",
       "</div>"
      ],
      "text/plain": [
       "   Type                           Incident                   Aircraft  \\\n",
       "34  COM           TAM Airlines Flight 3054            Airbus A320-233   \n",
       "55  COM                Mexicana Flight 940             Boeing 727-264   \n",
       "59  COM  West Caribbean Airways Flight 708    McDonnell Douglas MD-82   \n",
       "62  COM       American Airlines Flight 965             Boeing 757-223   \n",
       "72  COM                   Viasa Flight 742  McDonnell Douglas DC-9-32   \n",
       "\n",
       "                               Location     Phase Airport         Distance  \\\n",
       "34                    São Paulo, Brazil   LDG[64]     CGH                    \n",
       "55   Sierra Madre Oriental Mts., Mexico   ENR[89]                            \n",
       "59                 Machiques, Venezuela   ENR[93]                            \n",
       "62                       Buga, Colombia   APR[96]     CLO  c. 48 km(30 mi)   \n",
       "72                 Maracaibo, Venezuela  ICL[107]     MAR  0.85 km(0.5 mi)   \n",
       "\n",
       "          Date  \n",
       "34  2007-07-17  \n",
       "55  1986-03-31  \n",
       "59  2005-08-16  \n",
       "62  1995-12-20  \n",
       "72  1969-03-16  "
      ]
     },
     "execution_count": 12,
     "metadata": {},
     "output_type": "execute_result"
    }
   ],
   "source": [
    "Air_Latam.head()"
   ]
  },
  {
   "cell_type": "code",
   "execution_count": 13,
   "metadata": {},
   "outputs": [
    {
     "data": {
      "text/plain": [
       "(67, 8)"
      ]
     },
     "execution_count": 13,
     "metadata": {},
     "output_type": "execute_result"
    }
   ],
   "source": [
    "Air_Latam.shape"
   ]
  },
  {
   "cell_type": "markdown",
   "metadata": {},
   "source": [
    "Using one of the types of maps learned during the course, the geography of the region will be analyzed for accident patterns."
   ]
  },
  {
   "cell_type": "code",
   "execution_count": 14,
   "metadata": {},
   "outputs": [],
   "source": [
    "Air_Latam['Latitude'] = np.nan\n",
    "Air_Latam['Longitude'] = np.nan"
   ]
  },
  {
   "cell_type": "code",
   "execution_count": 15,
   "metadata": {},
   "outputs": [
    {
     "name": "stderr",
     "output_type": "stream",
     "text": [
      "C:\\Users\\bullt\\Anaconda3\\lib\\site-packages\\ipykernel_launcher.py:7: SettingWithCopyWarning: \n",
      "A value is trying to be set on a copy of a slice from a DataFrame\n",
      "\n",
      "See the caveats in the documentation: http://pandas.pydata.org/pandas-docs/stable/indexing.html#indexing-view-versus-copy\n",
      "  import sys\n",
      "C:\\Users\\bullt\\Anaconda3\\lib\\site-packages\\ipykernel_launcher.py:8: SettingWithCopyWarning: \n",
      "A value is trying to be set on a copy of a slice from a DataFrame\n",
      "\n",
      "See the caveats in the documentation: http://pandas.pydata.org/pandas-docs/stable/indexing.html#indexing-view-versus-copy\n",
      "  \n"
     ]
    }
   ],
   "source": [
    "    for i in Air_Latam.index : \n",
    "        lok= Air_Latam.Location[i]\n",
    "\n",
    "        try:\n",
    "            geo = Nominatim(user_agent=\"ny_explorer\")\n",
    "            loc = geo.geocode(lok)\n",
    "            Air_Latam.Latitude[i] = loc.latitude\n",
    "            Air_Latam.Longitude[i] = loc.longitude\n",
    "        except:\n",
    "            x=0"
   ]
  },
  {
   "cell_type": "code",
   "execution_count": 16,
   "metadata": {},
   "outputs": [],
   "source": [
    "Air_Latam=Air_Latam.dropna()"
   ]
  },
  {
   "cell_type": "markdown",
   "metadata": {},
   "source": [
    "**Analysis**"
   ]
  },
  {
   "cell_type": "markdown",
   "metadata": {},
   "source": [
    "First of all we need to see the physical map of LATAM"
   ]
  },
  {
   "cell_type": "code",
   "execution_count": 17,
   "metadata": {},
   "outputs": [],
   "source": [
    "latitude = 4.3635\n",
    "longitude = -74.0454\n",
    "map_AirLatam = folium.Map(location=[latitude, longitude],tiles='Stamen Terrain', zoom_start=3)"
   ]
  },
  {
   "cell_type": "code",
   "execution_count": 18,
   "metadata": {},
   "outputs": [
    {
     "data": {
      "text/html": [
       "<div style=\"width:100%;\"><div style=\"position:relative;width:100%;height:0;padding-bottom:60%;\"><iframe src=\"data:text/html;charset=utf-8;base64,PCFET0NUWVBFIGh0bWw+CjxoZWFkPiAgICAKICAgIDxtZXRhIGh0dHAtZXF1aXY9ImNvbnRlbnQtdHlwZSIgY29udGVudD0idGV4dC9odG1sOyBjaGFyc2V0PVVURi04IiAvPgogICAgCiAgICAgICAgPHNjcmlwdD4KICAgICAgICAgICAgTF9OT19UT1VDSCA9IGZhbHNlOwogICAgICAgICAgICBMX0RJU0FCTEVfM0QgPSBmYWxzZTsKICAgICAgICA8L3NjcmlwdD4KICAgIAogICAgPHNjcmlwdCBzcmM9Imh0dHBzOi8vY2RuLmpzZGVsaXZyLm5ldC9ucG0vbGVhZmxldEAxLjQuMC9kaXN0L2xlYWZsZXQuanMiPjwvc2NyaXB0PgogICAgPHNjcmlwdCBzcmM9Imh0dHBzOi8vY29kZS5qcXVlcnkuY29tL2pxdWVyeS0xLjEyLjQubWluLmpzIj48L3NjcmlwdD4KICAgIDxzY3JpcHQgc3JjPSJodHRwczovL21heGNkbi5ib290c3RyYXBjZG4uY29tL2Jvb3RzdHJhcC8zLjIuMC9qcy9ib290c3RyYXAubWluLmpzIj48L3NjcmlwdD4KICAgIDxzY3JpcHQgc3JjPSJodHRwczovL2NkbmpzLmNsb3VkZmxhcmUuY29tL2FqYXgvbGlicy9MZWFmbGV0LmF3ZXNvbWUtbWFya2Vycy8yLjAuMi9sZWFmbGV0LmF3ZXNvbWUtbWFya2Vycy5qcyI+PC9zY3JpcHQ+CiAgICA8bGluayByZWw9InN0eWxlc2hlZXQiIGhyZWY9Imh0dHBzOi8vY2RuLmpzZGVsaXZyLm5ldC9ucG0vbGVhZmxldEAxLjQuMC9kaXN0L2xlYWZsZXQuY3NzIi8+CiAgICA8bGluayByZWw9InN0eWxlc2hlZXQiIGhyZWY9Imh0dHBzOi8vbWF4Y2RuLmJvb3RzdHJhcGNkbi5jb20vYm9vdHN0cmFwLzMuMi4wL2Nzcy9ib290c3RyYXAubWluLmNzcyIvPgogICAgPGxpbmsgcmVsPSJzdHlsZXNoZWV0IiBocmVmPSJodHRwczovL21heGNkbi5ib290c3RyYXBjZG4uY29tL2Jvb3RzdHJhcC8zLjIuMC9jc3MvYm9vdHN0cmFwLXRoZW1lLm1pbi5jc3MiLz4KICAgIDxsaW5rIHJlbD0ic3R5bGVzaGVldCIgaHJlZj0iaHR0cHM6Ly9tYXhjZG4uYm9vdHN0cmFwY2RuLmNvbS9mb250LWF3ZXNvbWUvNC42LjMvY3NzL2ZvbnQtYXdlc29tZS5taW4uY3NzIi8+CiAgICA8bGluayByZWw9InN0eWxlc2hlZXQiIGhyZWY9Imh0dHBzOi8vY2RuanMuY2xvdWRmbGFyZS5jb20vYWpheC9saWJzL0xlYWZsZXQuYXdlc29tZS1tYXJrZXJzLzIuMC4yL2xlYWZsZXQuYXdlc29tZS1tYXJrZXJzLmNzcyIvPgogICAgPGxpbmsgcmVsPSJzdHlsZXNoZWV0IiBocmVmPSJodHRwczovL3Jhd2Nkbi5naXRoYWNrLmNvbS9weXRob24tdmlzdWFsaXphdGlvbi9mb2xpdW0vbWFzdGVyL2ZvbGl1bS90ZW1wbGF0ZXMvbGVhZmxldC5hd2Vzb21lLnJvdGF0ZS5jc3MiLz4KICAgIDxzdHlsZT5odG1sLCBib2R5IHt3aWR0aDogMTAwJTtoZWlnaHQ6IDEwMCU7bWFyZ2luOiAwO3BhZGRpbmc6IDA7fTwvc3R5bGU+CiAgICA8c3R5bGU+I21hcCB7cG9zaXRpb246YWJzb2x1dGU7dG9wOjA7Ym90dG9tOjA7cmlnaHQ6MDtsZWZ0OjA7fTwvc3R5bGU+CiAgICAKICAgICAgICAgICAgPG1ldGEgbmFtZT0idmlld3BvcnQiIGNvbnRlbnQ9IndpZHRoPWRldmljZS13aWR0aCwKICAgICAgICAgICAgICAgIGluaXRpYWwtc2NhbGU9MS4wLCBtYXhpbXVtLXNjYWxlPTEuMCwgdXNlci1zY2FsYWJsZT1ubyIgLz4KICAgICAgICAgICAgPHN0eWxlPgogICAgICAgICAgICAgICAgI21hcF8wNzdhZWI3MzA0Y2Y0MDM4ODY0Zjc5NTIwMGRmZGQzYyB7CiAgICAgICAgICAgICAgICAgICAgcG9zaXRpb246IHJlbGF0aXZlOwogICAgICAgICAgICAgICAgICAgIHdpZHRoOiAxMDAuMCU7CiAgICAgICAgICAgICAgICAgICAgaGVpZ2h0OiAxMDAuMCU7CiAgICAgICAgICAgICAgICAgICAgbGVmdDogMC4wJTsKICAgICAgICAgICAgICAgICAgICB0b3A6IDAuMCU7CiAgICAgICAgICAgICAgICB9CiAgICAgICAgICAgIDwvc3R5bGU+CiAgICAgICAgCjwvaGVhZD4KPGJvZHk+ICAgIAogICAgCiAgICAgICAgICAgIDxkaXYgY2xhc3M9ImZvbGl1bS1tYXAiIGlkPSJtYXBfMDc3YWViNzMwNGNmNDAzODg2NGY3OTUyMDBkZmRkM2MiID48L2Rpdj4KICAgICAgICAKPC9ib2R5Pgo8c2NyaXB0PiAgICAKICAgIAogICAgICAgICAgICB2YXIgbWFwXzA3N2FlYjczMDRjZjQwMzg4NjRmNzk1MjAwZGZkZDNjID0gTC5tYXAoCiAgICAgICAgICAgICAgICAibWFwXzA3N2FlYjczMDRjZjQwMzg4NjRmNzk1MjAwZGZkZDNjIiwKICAgICAgICAgICAgICAgIHsKICAgICAgICAgICAgICAgICAgICBjZW50ZXI6IFs0LjM2MzUsIC03NC4wNDU0XSwKICAgICAgICAgICAgICAgICAgICBjcnM6IEwuQ1JTLkVQU0czODU3LAogICAgICAgICAgICAgICAgICAgIHpvb206IDMsCiAgICAgICAgICAgICAgICAgICAgem9vbUNvbnRyb2w6IHRydWUsCiAgICAgICAgICAgICAgICAgICAgcHJlZmVyQ2FudmFzOiBmYWxzZSwKICAgICAgICAgICAgICAgIH0KICAgICAgICAgICAgKTsKCiAgICAgICAgICAgIAoKICAgICAgICAKICAgIAogICAgICAgICAgICB2YXIgdGlsZV9sYXllcl9lODBmNmI0MTg3Yjc0YzQ3OGRlZThlNWIwNWQ1MWNiZiA9IEwudGlsZUxheWVyKAogICAgICAgICAgICAgICAgImh0dHBzOi8vc3RhbWVuLXRpbGVzLXtzfS5hLnNzbC5mYXN0bHkubmV0L3RlcnJhaW4ve3p9L3t4fS97eX0uanBnIiwKICAgICAgICAgICAgICAgIHsiYXR0cmlidXRpb24iOiAiTWFwIHRpbGVzIGJ5IFx1MDAzY2EgaHJlZj1cImh0dHA6Ly9zdGFtZW4uY29tXCJcdTAwM2VTdGFtZW4gRGVzaWduXHUwMDNjL2FcdTAwM2UsIHVuZGVyIFx1MDAzY2EgaHJlZj1cImh0dHA6Ly9jcmVhdGl2ZWNvbW1vbnMub3JnL2xpY2Vuc2VzL2J5LzMuMFwiXHUwMDNlQ0MgQlkgMy4wXHUwMDNjL2FcdTAwM2UuIERhdGEgYnkgXHUwMDI2Y29weTsgXHUwMDNjYSBocmVmPVwiaHR0cDovL29wZW5zdHJlZXRtYXAub3JnXCJcdTAwM2VPcGVuU3RyZWV0TWFwXHUwMDNjL2FcdTAwM2UsIHVuZGVyIFx1MDAzY2EgaHJlZj1cImh0dHA6Ly9jcmVhdGl2ZWNvbW1vbnMub3JnL2xpY2Vuc2VzL2J5LXNhLzMuMFwiXHUwMDNlQ0MgQlkgU0FcdTAwM2MvYVx1MDAzZS4iLCAiZGV0ZWN0UmV0aW5hIjogZmFsc2UsICJtYXhOYXRpdmVab29tIjogMTgsICJtYXhab29tIjogMTgsICJtaW5ab29tIjogMCwgIm5vV3JhcCI6IGZhbHNlLCAib3BhY2l0eSI6IDEsICJzdWJkb21haW5zIjogImFiYyIsICJ0bXMiOiBmYWxzZX0KICAgICAgICAgICAgKS5hZGRUbyhtYXBfMDc3YWViNzMwNGNmNDAzODg2NGY3OTUyMDBkZmRkM2MpOwogICAgICAgIAo8L3NjcmlwdD4=\" style=\"position:absolute;width:100%;height:100%;left:0;top:0;border:none !important;\" allowfullscreen webkitallowfullscreen mozallowfullscreen></iframe></div></div>"
      ],
      "text/plain": [
       "<folium.folium.Map at 0x11830ba3cc0>"
      ]
     },
     "execution_count": 18,
     "metadata": {},
     "output_type": "execute_result"
    }
   ],
   "source": [
    "map_AirLatam"
   ]
  },
  {
   "cell_type": "code",
   "execution_count": 19,
   "metadata": {},
   "outputs": [],
   "source": [
    "map_AirLatam.save('MapLATAM.html')"
   ]
  },
  {
   "cell_type": "markdown",
   "metadata": {},
   "source": [
    "Now we see the accidents location in the terrain map. On the map we find the most important accidents such as the Andes mountain range, the great Chaco, the Argentine pampas, the Patagonia desert and Fire Land."
   ]
  },
  {
   "cell_type": "code",
   "execution_count": 20,
   "metadata": {},
   "outputs": [],
   "source": [
    "folium.Marker([-18.32, -69.56], popup='Andes', icon = folium.Icon(color ='green')).add_to(map_AirLatam)\n",
    "folium.Marker([-35.12, -67.10], popup='Pampa', icon = folium.Icon(color ='green')).add_to(map_AirLatam)\n",
    "folium.Marker([-48.01, -70.70], popup='Patagonia', icon = folium.Icon(color ='green')).add_to(map_AirLatam)\n",
    "map_AirLatam.save('MapLATAMmarkers.html')"
   ]
  },
  {
   "cell_type": "code",
   "execution_count": 21,
   "metadata": {},
   "outputs": [
    {
     "data": {
      "text/html": [
       "<div style=\"width:100%;\"><div style=\"position:relative;width:100%;height:0;padding-bottom:60%;\"><iframe src=\"data:text/html;charset=utf-8;base64,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\" style=\"position:absolute;width:100%;height:100%;left:0;top:0;border:none !important;\" allowfullscreen webkitallowfullscreen mozallowfullscreen></iframe></div></div>"
      ],
      "text/plain": [
       "<folium.folium.Map at 0x11830ba3cc0>"
      ]
     },
     "execution_count": 21,
     "metadata": {},
     "output_type": "execute_result"
    }
   ],
   "source": [
    "map_AirLatam"
   ]
  },
  {
   "cell_type": "code",
   "execution_count": 22,
   "metadata": {},
   "outputs": [],
   "source": [
    "latitude = 4.3635\n",
    "longitude = -74.0454\n",
    "map_AirLatam1 = folium.Map(location=[latitude, longitude],tiles='Stamen Terrain', zoom_start=3)\n",
    "\n",
    "for lat, lng, location in zip(Air_Latam['Latitude'],Air_Latam['Longitude'],Air_Latam['Location']):\n",
    "    label = '{}'.format(location)\n",
    "    label = folium.Popup(label, parse_html=True)\n",
    "    folium.CircleMarker(\n",
    "        [lat, lng],\n",
    "        radius=7,\n",
    "        popup=label,\n",
    "        color='red',\n",
    "        fill=True,\n",
    "        fill_color='red',\n",
    "        fill_opacity=0.2,\n",
    "        parse_html=False).add_to(map_AirLatam1)  "
   ]
  },
  {
   "cell_type": "code",
   "execution_count": 23,
   "metadata": {},
   "outputs": [],
   "source": [
    "map_AirLatam1.save('Air_Latam.html')"
   ]
  },
  {
   "cell_type": "code",
   "execution_count": 24,
   "metadata": {},
   "outputs": [
    {
     "data": {
      "text/html": [
       "<div style=\"width:100%;\"><div style=\"position:relative;width:100%;height:0;padding-bottom:60%;\"><iframe src=\"data:text/html;charset=utf-8;base64,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\" style=\"position:absolute;width:100%;height:100%;left:0;top:0;border:none !important;\" allowfullscreen webkitallowfullscreen mozallowfullscreen></iframe></div></div>"
      ],
      "text/plain": [
       "<folium.folium.Map at 0x11830be7b38>"
      ]
     },
     "execution_count": 24,
     "metadata": {},
     "output_type": "execute_result"
    }
   ],
   "source": [
    "map_AirLatam1"
   ]
  },
  {
   "cell_type": "markdown",
   "metadata": {},
   "source": [
    "As we can see on the map, we find that most of the accidents occur due to geographical faults in the region, mainly in the Andes mountain range, since crossing all of South America it is more common for airplanes to travel between the mountains.\n",
    "\n",
    "You can see that the largest amount is concentrated between Ecuador and Colombia, since in the latter the coordination is divided into 3 making geography much more difficult.\n",
    "\n",
    "Finally we see that in the other geographical failures there have been accidents."
   ]
  },
  {
   "cell_type": "markdown",
   "metadata": {},
   "source": [
    "**conclusion**"
   ]
  },
  {
   "cell_type": "markdown",
   "metadata": {},
   "source": [
    "To conclude the work we find that geographical failures are the cause of most of the aerial tragedies in Latin America.\n",
    "Although we all know that the region is not only difficult because of geography but also because of political, social and forced displacement situations.\n",
    "\n",
    "We found that most of the accidents occurred in the north of his America since there are the high winds, winds that come from the Pacific and the mountains are much more difficult to travel."
   ]
  }
 ],
 "metadata": {
  "kernelspec": {
   "display_name": "Python 3",
   "language": "python",
   "name": "python3"
  },
  "language_info": {
   "codemirror_mode": {
    "name": "ipython",
    "version": 3
   },
   "file_extension": ".py",
   "mimetype": "text/x-python",
   "name": "python",
   "nbconvert_exporter": "python",
   "pygments_lexer": "ipython3",
   "version": "3.7.3"
  }
 },
 "nbformat": 4,
 "nbformat_minor": 2
}
